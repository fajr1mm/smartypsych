{
 "cells": [
  {
   "cell_type": "code",
   "execution_count": 34,
   "id": "09bbee86-156c-4105-bd07-a93f1324646c",
   "metadata": {},
   "outputs": [],
   "source": [
    "import pandas as pd"
   ]
  },
  {
   "cell_type": "code",
   "execution_count": 35,
   "id": "3ec480a1-8af0-49c5-a243-13a88a38a7e3",
   "metadata": {},
   "outputs": [],
   "source": [
    "import sklearn"
   ]
  },
  {
   "cell_type": "code",
   "execution_count": 36,
   "id": "0e7d506e-b823-42b7-90aa-2bb5fa74dbb1",
   "metadata": {},
   "outputs": [],
   "source": [
    "import re\n",
    "from nltk.corpus import stopwords\n",
    "from nltk.stem import PorterStemmer\n",
    "from nltk.tokenize import word_tokenize"
   ]
  },
  {
   "cell_type": "code",
   "execution_count": 37,
   "id": "2e8158ee-2d46-4e4b-8c92-b8c40a3be082",
   "metadata": {},
   "outputs": [],
   "source": [
    "import nltk"
   ]
  },
  {
   "cell_type": "code",
   "execution_count": 38,
   "id": "c7649c1b-67b0-4a61-95e9-c208e7e2c000",
   "metadata": {},
   "outputs": [
    {
     "name": "stderr",
     "output_type": "stream",
     "text": [
      "[nltk_data] Downloading package stopwords to\n",
      "[nltk_data]     C:\\Users\\harto\\AppData\\Roaming\\nltk_data...\n",
      "[nltk_data]   Package stopwords is already up-to-date!\n",
      "[nltk_data] Downloading package punkt to\n",
      "[nltk_data]     C:\\Users\\harto\\AppData\\Roaming\\nltk_data...\n",
      "[nltk_data]   Unzipping tokenizers\\punkt.zip.\n"
     ]
    },
    {
     "data": {
      "text/plain": [
       "True"
      ]
     },
     "execution_count": 38,
     "metadata": {},
     "output_type": "execute_result"
    }
   ],
   "source": [
    "nltk.download('stopwords')\n",
    "nltk.download('punkt')"
   ]
  },
  {
   "cell_type": "code",
   "execution_count": 49,
   "id": "30b96e4a-c3d5-4a02-9ef9-40cacac8736f",
   "metadata": {},
   "outputs": [
    {
     "ename": "ModuleNotFoundError",
     "evalue": "No module named 'googletrans'",
     "output_type": "error",
     "traceback": [
      "\u001b[1;31m---------------------------------------------------------------------------\u001b[0m",
      "\u001b[1;31mModuleNotFoundError\u001b[0m                       Traceback (most recent call last)",
      "Cell \u001b[1;32mIn[49], line 1\u001b[0m\n\u001b[1;32m----> 1\u001b[0m \u001b[38;5;28;01mfrom\u001b[39;00m \u001b[38;5;21;01mgoogletrans\u001b[39;00m \u001b[38;5;28;01mimport\u001b[39;00m Translator\n",
      "\u001b[1;31mModuleNotFoundError\u001b[0m: No module named 'googletrans'"
     ]
    }
   ],
   "source": [
    "from googletrans import Translator"
   ]
  },
  {
   "cell_type": "code",
   "execution_count": 39,
   "id": "7d52052d-e42f-4f92-9154-9e5d4811021d",
   "metadata": {},
   "outputs": [],
   "source": [
    "from sklearn.feature_extraction.text import TfidfVectorizer"
   ]
  },
  {
   "cell_type": "code",
   "execution_count": 40,
   "id": "b7dcc364-b6f6-4c4e-8e3d-d3e7dcb2e07d",
   "metadata": {},
   "outputs": [],
   "source": [
    "data_responden = [\"Biasanya yang akan saya lakukan adalah membuat pertimbangan sisi normatif dan hukum dari situasi tersebut. Kemudian, saya akan ambil keputusan dari risiko terkecil berdasarkan pertimbangan hukum dan normatif suatu masalah.\",\n",
    "                  \"Melihat skala prioritas, apakah saat itu pekerjaan di kantor segera dan penting atau tidak serta kepentingan pribadi segera dan penting atau tidak. Melaksanakan kegiatan yang lebih priorita dan mengkondisikan prioritas kedua. Misal : Apabila kepentingan pribadi lebih prioritas dan didahulukan, maka peran di kantor di delegasikan kepada rekan kerja lain, begitupun sebaliknya.\"]"
   ]
  },
  {
   "cell_type": "code",
   "execution_count": 41,
   "id": "ee70826c-0a82-4317-851b-03ff16475c6b",
   "metadata": {},
   "outputs": [],
   "source": [
    "# Inisialisasi TF-IDF Vectorizer\n",
    "tfidf_vectorizer = TfidfVectorizer()\n",
    "\n",
    "# Fit dan transform data responden\n",
    "tfidf_matrix = tfidf_vectorizer.fit_transform(data_responden)"
   ]
  },
  {
   "cell_type": "code",
   "execution_count": 42,
   "id": "41a0f5a1-7b6c-440d-9114-c10be2a4ad5e",
   "metadata": {},
   "outputs": [],
   "source": [
    "feature_names = tfidf_vectorizer.get_feature_names_out()\n",
    "tfidf_df = pd.DataFrame(tfidf_matrix.toarray(), columns=feature_names)"
   ]
  },
  {
   "cell_type": "code",
   "execution_count": 43,
   "id": "912df550-5400-481d-896c-b7091e106868",
   "metadata": {},
   "outputs": [
    {
     "name": "stdout",
     "output_type": "stream",
     "text": [
      "     adalah      akan     ambil   apabila    apakah      atau  begitupun  \\\n",
      "0  0.155172  0.310343  0.155172  0.000000  0.000000  0.000000   0.000000   \n",
      "1  0.000000  0.000000  0.000000  0.110026  0.110026  0.220051   0.110026   \n",
      "\n",
      "   berdasarkan  biasanya       dan  ...    segera     serta      sisi  \\\n",
      "0     0.155172  0.155172  0.220812  ...  0.000000  0.000000  0.155172   \n",
      "1     0.000000  0.000000  0.313137  ...  0.220051  0.110026  0.000000   \n",
      "\n",
      "    situasi     skala     suatu  terkecil  tersebut     tidak      yang  \n",
      "0  0.155172  0.000000  0.155172  0.155172  0.155172  0.000000  0.110406  \n",
      "1  0.000000  0.110026  0.000000  0.000000  0.000000  0.220051  0.078284  \n",
      "\n",
      "[2 rows x 57 columns]\n"
     ]
    }
   ],
   "source": [
    "print(tfidf_df)"
   ]
  },
  {
   "cell_type": "code",
   "execution_count": 44,
   "id": "219f104f-ca75-4d2d-ac60-662e39e5be65",
   "metadata": {},
   "outputs": [],
   "source": [
    "def preprocess_text(text):\n",
    "    # Tokenisasi\n",
    "    words = word_tokenize(text)\n",
    "    \n",
    "    # Konversi ke huruf kecil\n",
    "    words = [word.lower() for word in words]\n",
    "    \n",
    "    # Hapus karakter khusus dan angka\n",
    "    words = [re.sub(r'[^a-zA-Z]', '', word) for word in words]\n",
    "    \n",
    "    # Hapus stopwords\n",
    "    stop_words = set(stopwords.words('english'))\n",
    "    words = [word for word in words if word not in stop_words]\n",
    "    \n",
    "    # Stemming\n",
    "    stemmer = PorterStemmer()\n",
    "    words = [stemmer.stem(word) for word in words]\n",
    "    \n",
    "    return ' '.join(words)"
   ]
  },
  {
   "cell_type": "code",
   "execution_count": 47,
   "id": "7ac526bc-1ab9-4c66-b415-67bcd53f62e2",
   "metadata": {},
   "outputs": [],
   "source": [
    "sample_response = \"Pernah, pada saat pemenuhan standar pelayanan publik pada suatu unit kerja. Kemudian, pada saat itu saya perintahkan kepada staf saya untuk melakukan pemenuhan standar pelayanan publik sebagaimana yang diatur dalam peraturan perundang undangan.\"\n",
    "preprocessed_response = preprocess_text(sample_response)"
   ]
  },
  {
   "cell_type": "code",
   "execution_count": 48,
   "id": "e0d5e673-0ac6-4522-8587-e4db2d465e0e",
   "metadata": {},
   "outputs": [
    {
     "name": "stdout",
     "output_type": "stream",
     "text": [
      "Data Sebelum Preprocessing:\n",
      "Pernah, pada saat pemenuhan standar pelayanan publik pada suatu unit kerja. Kemudian, pada saat itu saya perintahkan kepada staf saya untuk melakukan pemenuhan standar pelayanan publik sebagaimana yang diatur dalam peraturan perundang undangan.\n",
      "\n",
      "Data Setelah Preprocessing:\n",
      "pernah  pada saat pemenuhan standar pelayanan publik pada suatu unit kerja  kemudian  pada saat itu saya perintahkan kepada staf saya untuk melakukan pemenuhan standar pelayanan publik sebagaimana yang diatur dalam peraturan perundang undangan \n"
     ]
    }
   ],
   "source": [
    "print(\"Data Sebelum Preprocessing:\")\n",
    "print(sample_response)\n",
    "print(\"\\nData Setelah Preprocessing:\")\n",
    "print(preprocessed_response)"
   ]
  },
  {
   "cell_type": "code",
   "execution_count": null,
   "id": "ab6b5b9c-e3fe-48ad-8e04-b644777b7699",
   "metadata": {},
   "outputs": [],
   "source": []
  }
 ],
 "metadata": {
  "kernelspec": {
   "display_name": "Python 3 (ipykernel)",
   "language": "python",
   "name": "python3"
  },
  "language_info": {
   "codemirror_mode": {
    "name": "ipython",
    "version": 3
   },
   "file_extension": ".py",
   "mimetype": "text/x-python",
   "name": "python",
   "nbconvert_exporter": "python",
   "pygments_lexer": "ipython3",
   "version": "3.11.3"
  }
 },
 "nbformat": 4,
 "nbformat_minor": 5
}
